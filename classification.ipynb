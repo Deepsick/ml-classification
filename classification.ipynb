{
 "cells": [
  {
   "cell_type": "markdown",
   "metadata": {},
   "source": [
    "# Classification. Linear models and KNN"
   ]
  },
  {
   "cell_type": "code",
   "execution_count": 108,
   "metadata": {},
   "outputs": [],
   "source": [
    "import os\n",
    "import numpy as np\n",
    "import pandas as pd\n",
    "import seaborn as sns\n",
    "import matplotlib.pyplot as plt"
   ]
  },
  {
   "cell_type": "code",
   "execution_count": 109,
   "metadata": {},
   "outputs": [],
   "source": [
    "from sklearn.pipeline import Pipeline, make_pipeline\n",
    "from sklearn.compose import ColumnTransformer\n",
    "from sklearn.model_selection import train_test_split, cross_validate, cross_val_score\n",
    "from sklearn.metrics import plot_confusion_matrix, accuracy_score\n",
    "from sklearn.linear_model import SGDClassifier\n",
    "from sklearn.preprocessing import StandardScaler, MinMaxScaler, OneHotEncoder\n",
    "from sklearn.linear_model import LogisticRegression\n",
    "from sklearn.neighbors import KNeighborsClassifier\n",
    "from sklearn.feature_selection import VarianceThreshold, SelectFromModel, RFECV, SequentialFeatureSelector"
   ]
  },
  {
   "cell_type": "markdown",
   "metadata": {},
   "source": [
    "## Part 1: Titanic survival prediction"
   ]
  },
  {
   "cell_type": "markdown",
   "metadata": {},
   "source": [
    "### Dataset\n",
    "\n",
    "Read the description here: https://www.kaggle.com/c/titanic/data. Download the dataset and place it in the *data/titanic/* folder in your working directory.\n",
    "You will use train.csv for model training and validation. The test set is used for model testing: once the model is trained, you can predict whether a passenger survived or not for each passenger in the test set, and submit the predictions: https://www.kaggle.com/c/titanic/overview/evaluation.  \n"
   ]
  },
  {
   "cell_type": "code",
   "execution_count": 110,
   "metadata": {},
   "outputs": [],
   "source": [
    "PATH = \"./data/\""
   ]
  },
  {
   "cell_type": "code",
   "execution_count": 111,
   "metadata": {},
   "outputs": [],
   "source": [
    "data = pd.read_csv(os.path.join(PATH, 'titanic', 'train.csv')).set_index('PassengerId')\n",
    "data_test = pd.read_csv(os.path.join(PATH, 'titanic', 'test.csv')).set_index('PassengerId')"
   ]
  },
  {
   "cell_type": "code",
   "execution_count": 112,
   "metadata": {
    "scrolled": true
   },
   "outputs": [
    {
     "data": {
      "text/html": [
       "<div>\n",
       "<style scoped>\n",
       "    .dataframe tbody tr th:only-of-type {\n",
       "        vertical-align: middle;\n",
       "    }\n",
       "\n",
       "    .dataframe tbody tr th {\n",
       "        vertical-align: top;\n",
       "    }\n",
       "\n",
       "    .dataframe thead th {\n",
       "        text-align: right;\n",
       "    }\n",
       "</style>\n",
       "<table border=\"1\" class=\"dataframe\">\n",
       "  <thead>\n",
       "    <tr style=\"text-align: right;\">\n",
       "      <th></th>\n",
       "      <th>Survived</th>\n",
       "      <th>Pclass</th>\n",
       "      <th>Name</th>\n",
       "      <th>Sex</th>\n",
       "      <th>Age</th>\n",
       "      <th>SibSp</th>\n",
       "      <th>Parch</th>\n",
       "      <th>Ticket</th>\n",
       "      <th>Fare</th>\n",
       "      <th>Cabin</th>\n",
       "      <th>Embarked</th>\n",
       "    </tr>\n",
       "    <tr>\n",
       "      <th>PassengerId</th>\n",
       "      <th></th>\n",
       "      <th></th>\n",
       "      <th></th>\n",
       "      <th></th>\n",
       "      <th></th>\n",
       "      <th></th>\n",
       "      <th></th>\n",
       "      <th></th>\n",
       "      <th></th>\n",
       "      <th></th>\n",
       "      <th></th>\n",
       "    </tr>\n",
       "  </thead>\n",
       "  <tbody>\n",
       "    <tr>\n",
       "      <th>1</th>\n",
       "      <td>0</td>\n",
       "      <td>3</td>\n",
       "      <td>Braund, Mr. Owen Harris</td>\n",
       "      <td>male</td>\n",
       "      <td>22.0</td>\n",
       "      <td>1</td>\n",
       "      <td>0</td>\n",
       "      <td>A/5 21171</td>\n",
       "      <td>7.2500</td>\n",
       "      <td>NaN</td>\n",
       "      <td>S</td>\n",
       "    </tr>\n",
       "    <tr>\n",
       "      <th>2</th>\n",
       "      <td>1</td>\n",
       "      <td>1</td>\n",
       "      <td>Cumings, Mrs. John Bradley (Florence Briggs Th...</td>\n",
       "      <td>female</td>\n",
       "      <td>38.0</td>\n",
       "      <td>1</td>\n",
       "      <td>0</td>\n",
       "      <td>PC 17599</td>\n",
       "      <td>71.2833</td>\n",
       "      <td>C85</td>\n",
       "      <td>C</td>\n",
       "    </tr>\n",
       "    <tr>\n",
       "      <th>3</th>\n",
       "      <td>1</td>\n",
       "      <td>3</td>\n",
       "      <td>Heikkinen, Miss. Laina</td>\n",
       "      <td>female</td>\n",
       "      <td>26.0</td>\n",
       "      <td>0</td>\n",
       "      <td>0</td>\n",
       "      <td>STON/O2. 3101282</td>\n",
       "      <td>7.9250</td>\n",
       "      <td>NaN</td>\n",
       "      <td>S</td>\n",
       "    </tr>\n",
       "    <tr>\n",
       "      <th>4</th>\n",
       "      <td>1</td>\n",
       "      <td>1</td>\n",
       "      <td>Futrelle, Mrs. Jacques Heath (Lily May Peel)</td>\n",
       "      <td>female</td>\n",
       "      <td>35.0</td>\n",
       "      <td>1</td>\n",
       "      <td>0</td>\n",
       "      <td>113803</td>\n",
       "      <td>53.1000</td>\n",
       "      <td>C123</td>\n",
       "      <td>S</td>\n",
       "    </tr>\n",
       "    <tr>\n",
       "      <th>5</th>\n",
       "      <td>0</td>\n",
       "      <td>3</td>\n",
       "      <td>Allen, Mr. William Henry</td>\n",
       "      <td>male</td>\n",
       "      <td>35.0</td>\n",
       "      <td>0</td>\n",
       "      <td>0</td>\n",
       "      <td>373450</td>\n",
       "      <td>8.0500</td>\n",
       "      <td>NaN</td>\n",
       "      <td>S</td>\n",
       "    </tr>\n",
       "  </tbody>\n",
       "</table>\n",
       "</div>"
      ],
      "text/plain": [
       "             Survived  Pclass  \\\n",
       "PassengerId                     \n",
       "1                   0       3   \n",
       "2                   1       1   \n",
       "3                   1       3   \n",
       "4                   1       1   \n",
       "5                   0       3   \n",
       "\n",
       "                                                          Name     Sex   Age  \\\n",
       "PassengerId                                                                    \n",
       "1                                      Braund, Mr. Owen Harris    male  22.0   \n",
       "2            Cumings, Mrs. John Bradley (Florence Briggs Th...  female  38.0   \n",
       "3                                       Heikkinen, Miss. Laina  female  26.0   \n",
       "4                 Futrelle, Mrs. Jacques Heath (Lily May Peel)  female  35.0   \n",
       "5                                     Allen, Mr. William Henry    male  35.0   \n",
       "\n",
       "             SibSp  Parch            Ticket     Fare Cabin Embarked  \n",
       "PassengerId                                                          \n",
       "1                1      0         A/5 21171   7.2500   NaN        S  \n",
       "2                1      0          PC 17599  71.2833   C85        C  \n",
       "3                0      0  STON/O2. 3101282   7.9250   NaN        S  \n",
       "4                1      0            113803  53.1000  C123        S  \n",
       "5                0      0            373450   8.0500   NaN        S  "
      ]
     },
     "execution_count": 112,
     "metadata": {},
     "output_type": "execute_result"
    }
   ],
   "source": [
    "data.head()"
   ]
  },
  {
   "cell_type": "markdown",
   "metadata": {},
   "source": [
    "### EDA"
   ]
  },
  {
   "cell_type": "markdown",
   "metadata": {},
   "source": [
    "**(0.5 points)** How many females and males are there in the dataset? What about the survived passengers? Is there any relationship between the gender and the survival?"
   ]
  },
  {
   "cell_type": "code",
   "execution_count": 113,
   "metadata": {},
   "outputs": [
    {
     "name": "stdout",
     "output_type": "stream",
     "text": [
      "Total passengers count: 891\n",
      "Males count: 314\n",
      "Females count: 577\n",
      "\n",
      "\n",
      "Survived males count: 109\n",
      "Survived females count: 233\n",
      "\n",
      "\n",
      "Survived males in males percentage: 34.71337579617834\n",
      "Survived females in females percentage: 40.38128249566724\n",
      "Survived males in total passengers percentage: 12.2334455667789\n",
      "Survived females in total passengers percentage: 26.15039281705948\n"
     ]
    },
    {
     "data": {
      "image/png": "[encoded data removed]",
      "text/plain": [
       "<Figure size 432x288 with 2 Axes>"
      ]
     },
     "metadata": {
      "needs_background": "light"
     },
     "output_type": "display_data"
    }
   ],
   "source": [
    "male, female = data.groupby(\"Sex\")[\"Sex\"].count()\n",
    "total = male + female\n",
    "\n",
    "# Totals\n",
    "print(f\"Total passengers count: {total}\")\n",
    "print(f\"Males count: {male}\")\n",
    "print(f\"Females count: {female}\")\n",
    "print('\\n')\n",
    "\n",
    "# Survived\n",
    "survived_female, survived_male = data[data[\"Survived\"] == 1].groupby(\"Sex\")[\"Sex\"].count()\n",
    "print(f\"Survived males count: {survived_male}\")\n",
    "print(f\"Survived females count: {survived_female}\")\n",
    "print('\\n')\n",
    "\n",
    "# Percentages\n",
    "print(f\"Survived males in males percentage: {survived_male / male * 100}\")\n",
    "print(f\"Survived females in females percentage: {survived_female / female * 100}\")\n",
    "print(f\"Survived males in total passengers percentage: {survived_male / total * 100}\")\n",
    "print(f\"Survived females in total passengers percentage: {survived_female / total * 100}\")\n",
    "\n",
    "# Correlation matrix\n",
    "correlation = data.replace(['female','male'],[0,1])  \n",
    "correlation = correlation[[\"Sex\", \"Survived\", \"Pclass\", \"Age\"]].corr(method='pearson').abs()\n",
    "sns.heatmap(correlation, center=0, square=True)\n",
    "plt.show()"
   ]
  },
  {
   "cell_type": "markdown",
   "metadata": {},
   "source": [
    "Well, actually it's difficult to say if there is any relationship between the gender and the survival because about 40% of people for each gender are survived. There are more females in the dataset from the beginning, so calculating percentage from total count of passengers is not correct. Anyway, there are more females among survived and percentage of survived females among females."
   ]
  },
  {
   "cell_type": "markdown",
   "metadata": {},
   "source": [
    "**(0.5 points)** Plot age distribution of the passengers. What is the average and the median age of survived and deceased passengers? Do age distributions differ for survived and deceased passengers? Why?"
   ]
  },
  {
   "cell_type": "code",
   "execution_count": 114,
   "metadata": {},
   "outputs": [
    {
     "name": "stdout",
     "output_type": "stream",
     "text": [
      "Mean age for survived passangers: 28.343689655172415\n",
      "Median age for survived passangers: 28.0\n",
      "\n",
      "\n",
      "Mean age for deceased passangers: 30.62617924528302\n",
      "Median age for deceased passangers: 28.0\n"
     ]
    },
    {
     "data": {
      "image/png": "[encoded data removed]",
      "text/plain": [
       "<Figure size 432x288 with 1 Axes>"
      ]
     },
     "metadata": {
      "needs_background": "light"
     },
     "output_type": "display_data"
    },
    {
     "data": {
      "image/png": "[encoded data removed]",
      "text/plain": [
       "<Figure size 432x288 with 1 Axes>"
      ]
     },
     "metadata": {
      "needs_background": "light"
     },
     "output_type": "display_data"
    },
    {
     "data": {
      "image/png": "[encoded data removed]",
      "text/plain": [
       "<Figure size 432x288 with 1 Axes>"
      ]
     },
     "metadata": {
      "needs_background": "light"
     },
     "output_type": "display_data"
    }
   ],
   "source": [
    "data_copy = data.copy()\n",
    "age = data_copy[\"Age\"]\n",
    "age.dropna(inplace=True)\n",
    "\n",
    "survived = data_copy[data_copy[\"Survived\"] == 1]\n",
    "deceased = data_copy[data_copy[\"Survived\"] == 0]\n",
    "\n",
    "mean = survived[\"Age\"].mean()\n",
    "median = survived[\"Age\"].median()\n",
    "print(f\"Mean age for survived passangers: {mean}\")\n",
    "print(f\"Median age for survived passangers: {median}\")\n",
    "print('\\n')\n",
    "\n",
    "mean = deceased[\"Age\"].mean()\n",
    "median = deceased[\"Age\"].median()\n",
    "print(f\"Mean age for deceased passangers: {mean}\")\n",
    "print(f\"Median age for deceased passangers: {median}\")\n",
    "\n",
    "\n",
    "sns.histplot(age, bins=20).set_title(\"Age distribution for all passengers\")\n",
    "plt.show();\n",
    "sns.histplot(survived[\"Age\"], bins=20).set_title(\"Age distribution for all survived passengers\")\n",
    "plt.show();\n",
    "sns.histplot(deceased[\"Age\"], bins=20).set_title(\"Age distribution for all deceased passengers\")\n",
    "plt.show();"
   ]
  },
  {
   "cell_type": "markdown",
   "metadata": {},
   "source": [
    "Actually age distribution for survived and deceased passengers differ, there are more children among survived passengers. In other cases it's pretty similar. It's tough to say why it is but I think that parents did the best to rescue their children and it was the first prioroty for rescue operation. "
   ]
  },
  {
   "cell_type": "markdown",
   "metadata": {},
   "source": [
    "**(1 point)** Explore \"passenger class\" and \"embarked\" features. What class was \"the safest\"? Is there any relationship between the embarkation port and the survival? Provide the corresponding visualizations."
   ]
  },
  {
   "cell_type": "code",
   "execution_count": 115,
   "metadata": {},
   "outputs": [
    {
     "name": "stdout",
     "output_type": "stream",
     "text": [
      "Passenger classes for survived passengers\n",
      "Pclass\n",
      "1    136\n",
      "2     87\n",
      "3    119\n",
      "Name: Pclass, dtype: int64\n",
      "\n",
      "\n"
     ]
    },
    {
     "data": {
      "image/png": "[encoded data removed]",
      "text/plain": [
       "<Figure size 360x360 with 1 Axes>"
      ]
     },
     "metadata": {
      "needs_background": "light"
     },
     "output_type": "display_data"
    },
    {
     "name": "stdout",
     "output_type": "stream",
     "text": [
      "Passenger classes for deceased passengers\n",
      "Pclass\n",
      "1     80\n",
      "2     97\n",
      "3    372\n",
      "Name: Pclass, dtype: int64\n",
      "\n",
      "\n"
     ]
    },
    {
     "data": {
      "image/png": "[encoded data removed]",
      "text/plain": [
       "<Figure size 360x360 with 1 Axes>"
      ]
     },
     "metadata": {
      "needs_background": "light"
     },
     "output_type": "display_data"
    },
    {
     "name": "stdout",
     "output_type": "stream",
     "text": [
      "Embarked for survived passengers\n",
      "Embarked\n",
      "C     93\n",
      "Q     30\n",
      "S    217\n",
      "Name: Embarked, dtype: int64\n",
      "\n",
      "\n"
     ]
    },
    {
     "data": {
      "image/png": "[encoded data removed]",
      "text/plain": [
       "<Figure size 360x360 with 1 Axes>"
      ]
     },
     "metadata": {
      "needs_background": "light"
     },
     "output_type": "display_data"
    },
    {
     "name": "stdout",
     "output_type": "stream",
     "text": [
      "Embarked for deceased passengers\n",
      "Embarked\n",
      "C     75\n",
      "Q     47\n",
      "S    427\n",
      "Name: Embarked, dtype: int64\n",
      "\n",
      "\n"
     ]
    },
    {
     "data": {
      "image/png": "[encoded data removed]",
      "text/plain": [
       "<Figure size 360x360 with 1 Axes>"
      ]
     },
     "metadata": {
      "needs_background": "light"
     },
     "output_type": "display_data"
    }
   ],
   "source": [
    "print(\"Passenger classes for survived passengers\")\n",
    "print(survived.groupby(\"Pclass\")[\"Pclass\"].count())\n",
    "print('\\n')\n",
    "\n",
    "survived[\"Pclass\"].apply(str)\n",
    "deceased[\"Pclass\"].apply(str)\n",
    "\n",
    "sns.displot(survived, x=\"Pclass\", bins=10)\n",
    "plt.title(\"Pclass distribution for survived passangers\")\n",
    "plt.show();\n",
    "\n",
    "print(\"Passenger classes for deceased passengers\")\n",
    "print(deceased.groupby(\"Pclass\")[\"Pclass\"].count())\n",
    "print('\\n')\n",
    "\n",
    "sns.displot(deceased, x=\"Pclass\", bins=10)\n",
    "plt.title(\"Pclass distribution for deceased passangers\")\n",
    "plt.show();\n",
    "\n",
    "print(\"Embarked for survived passengers\")\n",
    "print(survived.groupby(\"Embarked\")[\"Embarked\"].count())\n",
    "print('\\n')\n",
    "\n",
    "sns.displot(survived.dropna(), x=\"Embarked\", bins=10)\n",
    "plt.title(\"Embarked distribution for survived passangers\")\n",
    "plt.show();\n",
    "\n",
    "print(\"Embarked for deceased passengers\")\n",
    "print(deceased.groupby(\"Embarked\")[\"Embarked\"].count())\n",
    "print('\\n')\n",
    "\n",
    "sns.displot(deceased.dropna(), x=\"Embarked\", bins=10)\n",
    "plt.title(\"Embarked distribution for all deceased passengers\")\n",
    "plt.show();"
   ]
  },
  {
   "cell_type": "markdown",
   "metadata": {},
   "source": [
    "We can say that the safest class is 1 and the most dangerous is 3. Actually, we can say that S embarked is the most dangerous for passangers."
   ]
  },
  {
   "cell_type": "markdown",
   "metadata": {},
   "source": [
    "### Modelling"
   ]
  },
  {
   "cell_type": "markdown",
   "metadata": {},
   "source": [
    "**(0.5 points)** Find the percentage of missing values for each feature. "
   ]
  },
  {
   "cell_type": "code",
   "execution_count": 116,
   "metadata": {},
   "outputs": [
    {
     "name": "stdout",
     "output_type": "stream",
     "text": [
      "Number of rows: 891\n",
      "\n",
      "\n",
      "Missed values: \n",
      "Survived      0\n",
      "Pclass        0\n",
      "Name          0\n",
      "Sex           0\n",
      "Age         177\n",
      "SibSp         0\n",
      "Parch         0\n",
      "Ticket        0\n",
      "Fare          0\n",
      "Cabin       687\n",
      "Embarked      2\n",
      "dtype: int64\n",
      "\n",
      "\n",
      "Missed values percentage: \n",
      "Survived     0.000000\n",
      "Pclass       0.000000\n",
      "Name         0.000000\n",
      "Sex          0.000000\n",
      "Age         19.865320\n",
      "SibSp        0.000000\n",
      "Parch        0.000000\n",
      "Ticket       0.000000\n",
      "Fare         0.000000\n",
      "Cabin       77.104377\n",
      "Embarked     0.224467\n",
      "dtype: float64\n"
     ]
    }
   ],
   "source": [
    "print(f\"Number of rows: {len(data)}\")\n",
    "print('\\n')\n",
    "print(f\"Missed values: \\n{data.isna().sum()}\")\n",
    "print('\\n')\n",
    "print(f\"Missed values percentage: \\n{data.isna().sum() / len(data) * 100}\")"
   ]
  },
  {
   "cell_type": "markdown",
   "metadata": {},
   "source": [
    "Think about the ways to handle these missing values for modelling and write your answer below. Which methods would you suggest? What are their advantages and disadvantages?\n",
    "\n",
    "\n",
    "**My thoughts**\n",
    "We can drop this rows with nans, may be, drop entire columns. Also, we can fill nans with some pattern, for example, we can fill nans values for age column with mean value. Age follows normal distribution pattern so there shouldn't be any problems. Sometimes it requires to explore foreground area to find out the best solution. If we fill in nans with wrong patttern or drop important rows/columns it will affect accuracy of our model "
   ]
  },
  {
   "cell_type": "markdown",
   "metadata": {},
   "source": [
    "**(1.5 points)** Prepare the features and train two models (KNN and Logistic Regression) to predict the survival. Compare the results. Use accuracy as a metric. Don't forget about cross-validation!"
   ]
  },
  {
   "cell_type": "code",
   "execution_count": 117,
   "metadata": {},
   "outputs": [],
   "source": [
    "def encode_sex(df):\n",
    "  return df.replace(['female','male'],[0,1])  \n",
    "\n",
    "def process_features(feat_df):\n",
    "    df = feat_df.copy()\n",
    "    df.drop('Cabin', 1, inplace=True)\n",
    "    df.dropna(subset=['Embarked'], inplace=True)\n",
    "    df = encode_sex(df)\n",
    "    df[\"Age\"].fillna(df[\"Age\"].mean(), inplace=True)\n",
    "    return df\n",
    "\n",
    "def get_model_accuracy(model, X, y):\n",
    "    return cross_val_score(model, X, y, scoring='accuracy', cv=5).mean()\n",
    "\n",
    "def submit(model, X, y, X_test):\n",
    "    np.random.seed(333)\n",
    "    model.fit(X, y)\n",
    "    result = X_test.copy()\n",
    "    result[\"Survived\"] = model.predict(X_test)\n",
    "    result.drop(['Age', \"Sex\", \"Pclass\"], 1, inplace=True)\n",
    "    result.to_csv (r'./submission.csv', index = True, header=True)"
   ]
  },
  {
   "cell_type": "code",
   "execution_count": 118,
   "metadata": {},
   "outputs": [],
   "source": [
    "# load pure data\n",
    "data = pd.read_csv(os.path.join(PATH, 'titanic', 'train.csv')).set_index('PassengerId')\n",
    "data_test = pd.read_csv(os.path.join(PATH, 'titanic', 'test.csv')).set_index('PassengerId')"
   ]
  },
  {
   "cell_type": "code",
   "execution_count": 119,
   "metadata": {},
   "outputs": [
    {
     "name": "stdout",
     "output_type": "stream",
     "text": [
      "Accuracy: 0.8053957976258491\n",
      "Neighbours count: 2\n",
      "Features: ['Age', 'Pclass', 'Sex']\n",
      "Accuracy: 0.786282\n"
     ]
    }
   ],
   "source": [
    "# process features\n",
    "data_copied = data.copy()\n",
    "feat_df = process_features(data_copied)\n",
    "\n",
    "y = feat_df['Survived']\n",
    "feat_df.drop('Survived', 1, inplace=True)\n",
    "\n",
    "\n",
    "data_test_copied = data_test.copy()\n",
    "feat_df_test = process_features(data_test_copied)\n",
    "\n",
    "features = [\"Age\", \"Pclass\" , \"Sex\"]\n",
    "\n",
    "best_score = 0\n",
    "best_n = 0\n",
    "best_features = []\n",
    "for features_count in range(1, len(features) + 1):\n",
    "    picked_features = features[:features_count]\n",
    "    X = feat_df[picked_features]\n",
    "    X_test = feat_df_test[picked_features]\n",
    "    \n",
    "    for n in range(1, 10):\n",
    "        main_model = KNeighborsClassifier(n_neighbors=n)\n",
    "        pipe_selection = make_pipeline(StandardScaler(), main_model)\n",
    "        accuracy = get_model_accuracy(pipe_selection, X, y)\n",
    "        if accuracy > best_score:\n",
    "            best_score = accuracy\n",
    "            best_n = n\n",
    "            best_features = picked_features\n",
    "print(f\"Accuracy: {best_score}\")\n",
    "print(f\"Neighbours count: {best_n}\")\n",
    "print(f\"Features: {best_features}\")\n",
    "\n",
    "\n",
    "\n",
    "# main_model = KNeighborsClassifier(n_neighbors=4 | 8) # 0.8025045508756513\n",
    "# pipe_selection = make_pipeline(StandardScaler(), main_model)\n",
    "\n",
    "\n",
    "# main_model = KNeighborsClassifier(n_neighbors=4) # 0.8036218693114054\n",
    "# pipe_selection = make_pipeline(MinMaxScaler(), main_model)\n",
    "# submit(pipe_selection, X, y, X_test)\n",
    "\n",
    "\n",
    "\n",
    "\n",
    "# for n in range(1, 20):\n",
    "#     main_model = KNeighborsClassifier(n_neighbors=n)\n",
    "#     pipe_selection = make_pipeline(StandardScaler(), main_model)\n",
    "#     print('Accuracy: {:f}'.format(cross_val_score(pipe_selection, X, y, \n",
    "#                             scoring='accuracy', cv=5).mean()))\n",
    "\n",
    "\n",
    "# KNN model(best)\n",
    "# main_model = KNeighborsClassifier(n_neighbors=8)\n",
    "# pipe_selection = make_pipeline(StandardScaler(), main_model)\n",
    "# ideal = cross_val_score(pipe_selection, X, y, \n",
    "#                         scoring='accuracy', cv=5).mean()\n",
    "# print('Accuracy: {:f}'.format(cross_val_score(pipe_selection, X, y, \n",
    "#                         scoring='accuracy', cv=5).mean()))\n",
    "\n",
    "\n",
    "\n",
    "\n",
    "# Logistic regression model\n",
    "main_model = LogisticRegression(solver='liblinear', penalty='l1', max_iter=50000)\n",
    "pipe_selection = make_pipeline(StandardScaler(), main_model)\n",
    "print('Accuracy: {:f}'.format(cross_val_score(pipe_selection, X, y, \n",
    "                        scoring='accuracy', cv=5).mean()))\n",
    "\n",
    "\n",
    "\n",
    "# scaled_data_test =  sc.fit_transform(data_test)\n",
    "# pipe_selection.fit(X, y)\n",
    "# data_test_copied[\"Survived\"] = pipe_selection.predict(data_test_copied)\n",
    "# data_test_copied\n",
    "# data_test_copied.drop(['Age', \"Sex\", \"Pclass\"], 1, inplace=True)\n",
    "# data_test_copied\n",
    "# # data_test.isna().sum()\n",
    "# data_test_copied.to_csv (r'./sumbission.csv', index = True, header=True)\n",
    "\n",
    "\n",
    "\n",
    "# main_model = KNeighborsClassifier(n_neighbors=4)\n",
    "# pipe_selection = make_pipeline(MinMaxScaler(), main_model)\n",
    "\n",
    "# pipe_selection.fit(X, y)\n",
    "# data_test_copied[\"Survived\"] = pipe_selection.predict(data_test_copied)\n",
    "# data_test_copied.drop(['Age', \"Sex\", \"Pclass\"], 1, inplace=True)\n",
    "# # data_test.isna().sum()\n",
    "# data_test_copied.to_csv (r'./sumbission.csv', index = True, header=True)\n",
    "# accuracy = cross_val_score(pipe_selection, X, y, \n",
    "#                         scoring='accuracy', cv=5).mean()\n",
    "# print('Accuracy: {:f}'.format(accuracy))\n",
    "\n",
    "# ideal = 0\n",
    "# for n in range(1, 100):\n",
    "# main_model = KNeighborsClassifier(n_neighbors=4)\n",
    "# selection_model = LogisticRegression(solver='liblinear', penalty=\"l1\", max_iter=50000)\n",
    "# pipe_selection = make_pipeline(StandardScaler(), SelectFromModel(selection_model) ,main_model)\n",
    "# accuracy = cross_val_score(pipe_selection, X, y, scoring='accuracy', cv=5).mean()\n",
    "# if accuracy > ideal:\n",
    "#     ideal = accuracy\n",
    "# print(accuracy)\n",
    "#  Testing\n",
    "# for n in range(1, 100):\n",
    "#     main_model = KNeighborsClassifier(n_neighbors=n)\n",
    "#     pipe_selection = make_pipeline(MinMaxScaler(), main_model)\n",
    "#     accuracy = cross_val_score(pipe_selection, X, y, \n",
    "#                             scoring='accuracy', cv=5).mean()\n",
    "#     if accuracy > ideal:\n",
    "#         print('Accuracy: {:f}'.format(accuracy))\n",
    "#         print(n)"
   ]
  },
  {
   "cell_type": "markdown",
   "metadata": {},
   "source": [
    "**(0.5 + X points)** Try more feature engineering and hyperparameter tuning to improve the results. You may use either KNN or Logistic Regression (or both)."
   ]
  },
  {
   "cell_type": "code",
   "execution_count": 120,
   "metadata": {},
   "outputs": [],
   "source": [
    "picked_features = ['Age', 'Pclass', 'Sex']\n",
    "X = feat_df[picked_features]\n",
    "X_test = feat_df_test[picked_features]"
   ]
  },
  {
   "cell_type": "markdown",
   "metadata": {},
   "source": [
    "Load the test set and make the predictions. Submit them to kaggle and see the results :)\n",
    "Select the best model, load the test set and make the predictions. Submit them to kaggle.\n",
    "\n",
    "**Note**. X points will depend on your kaggle leaderboard score.\n",
    "$$ f(score) = 0.5, \\ \\ 0.76 \\leq score < 0.78,$$\n",
    "$$ f(score) = 1.0, \\ \\ 0.78 \\leq score < 0.81,$$ \n",
    "$$ f(score) = 2.5, \\ \\ 0.81 \\leq score $$ \n",
    "Your code should generate the output submitted to kaggle. Fix random seeds to make the results reproducible."
   ]
  },
  {
   "cell_type": "code",
   "execution_count": 121,
   "metadata": {},
   "outputs": [
    {
     "name": "stdout",
     "output_type": "stream",
     "text": [
      "0.8053957976258491\n"
     ]
    }
   ],
   "source": [
    "np.random.seed(333)\n",
    "main_model = KNeighborsClassifier(n_neighbors=2) # 0.8053957976258491\n",
    "pipe_selection = make_pipeline(StandardScaler(), main_model)\n",
    "accuracy = get_model_accuracy(pipe_selection, X, y)\n",
    "print(accuracy)\n",
    "submit(pipe_selection, X, y, X_test)"
   ]
  },
  {
   "attachments": {
    "1349f5e2-4c33-4bea-a7c2-0681dd9759af.png": {
     "image/png": "[encoded data removed]"
    },
    "5748f1fa-cad9-4eb4-862e-056faddd1756.png": {
     "image/png": "[encoded data removed]"
    }
   },
   "cell_type": "markdown",
   "metadata": {},
   "source": [
    "This model among the others has the best train accuracy but validation accuracy is low enough. I don't remeber the exact model that I used to get the best score but I provide the screenshot with\n",
    "\n",
    "best kaggle score: 0.77751\n",
    "kaggle nickname: Deepsick\n",
    "![image.png](attachment:1349f5e2-4c33-4bea-a7c2-0681dd9759af.png)\n",
    "![image.png](attachment:5748f1fa-cad9-4eb4-862e-056faddd1756.png)"
   ]
  }
 ],
 "metadata": {
  "kernelspec": {
   "display_name": "Python 3",
   "language": "python",
   "name": "python3"
  },
  "language_info": {
   "codemirror_mode": {
    "name": "ipython",
    "version": 3
   },
   "file_extension": ".py",
   "mimetype": "text/x-python",
   "name": "python",
   "nbconvert_exporter": "python",
   "pygments_lexer": "ipython3",
   "version": "3.8.5"
  }
 },
 "nbformat": 4,
 "nbformat_minor": 4
}
